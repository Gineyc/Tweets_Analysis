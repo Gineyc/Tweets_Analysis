{
 "cells": [
  {
   "cell_type": "markdown",
   "metadata": {},
   "source": [
    "# From Data Crawling to Reporting- Tweets Analysis\n",
    "\n",
    "This project contains the following steps:\n",
    "\n",
    "#### 1. Using Tweepy.api crawl tweets from twitter.\n",
    "#### 2. Data Cleaning of the tweets.\n",
    "#### 3. Vader_based Sentiment Anlaysis use both textblob and NLTK.\n",
    "#### 4. Data Analysis and visualization reporting\n",
    "     - Method of doing sentiment analysis\n",
    "     - Analyzing by hashtag\n"
   ]
  },
  {
   "cell_type": "markdown",
   "metadata": {},
   "source": [
    "- Import the libraries that we need to use in this project.\n",
    "- Tweepy api for creating the connection for crawling the tweets and related indice of tweets.\n",
    "- Numpy and Pandas are the most common libraries for data analyzing\n",
    "- Textblob and NLTK for sentiment analysis. In this project we adopted the vader-based sentiment analysis\n",
    "- Re for regular expression\n",
    " \n",
    "- PS: before using vader_based NLTK for sentiment analysis, we need to download the lexicon first."
   ]
  },
  {
   "cell_type": "code",
   "execution_count": 66,
   "metadata": {},
   "outputs": [
    {
     "name": "stderr",
     "output_type": "stream",
     "text": [
      "[nltk_data] Downloading package vader_lexicon to\n",
      "[nltk_data]     C:\\Users\\User\\AppData\\Roaming\\nltk_data...\n",
      "[nltk_data]   Package vader_lexicon is already up-to-date!\n"
     ]
    },
    {
     "data": {
      "text/plain": [
       "True"
      ]
     },
     "execution_count": 66,
     "metadata": {},
     "output_type": "execute_result"
    }
   ],
   "source": [
    "\n",
    "import tweepy \n",
    "import numpy as np\n",
    "import pandas as pd\n",
    "from textblob import TextBlob\n",
    "import re\n",
    "from nltk.sentiment.vader import SentimentIntensityAnalyzer\n",
    "import nltk\n",
    "import seaborn as sns\n",
    "import matplotlib.pyplot as plt\n",
    "nltk.download('vader_lexicon')\n",
    "#input the auth key to connect tweepy api, print result if connected sucessfully or Authen fail \n",
    "\n",
    "\n",
    "\n",
    "    "
   ]
  },
  {
   "cell_type": "markdown",
   "metadata": {},
   "source": [
    "##  1 Using Tweepy.api crawl tweets from twitter\n",
    "- Before crawling the data from he twitter, you need to get twitter developer account first. More information: https://developer.twitter.com/\n",
    "- Install Tweepy library. (pip install tweepy). More information:http://docs.tweepy.org/en/latest/install.html\n",
    "- Once you get your developer account, fill in as follow. It should work."
   ]
  },
  {
   "cell_type": "code",
   "execution_count": 67,
   "metadata": {},
   "outputs": [
    {
     "name": "stdout",
     "output_type": "stream",
     "text": [
      "connected  <tweepy.api.API object at 0x00000276E0FB9848>\n"
     ]
    }
   ],
   "source": [
    "\n",
    "'''CONSUMER_KEY = *'\n",
    "CONSUMER_SECRET = '*'\n",
    "OAUTH_TOKEN = '*'\n",
    "OAUTH_TOKEN_SECRET = '*'\n",
    "'''\n",
    "\n",
    "\n",
    "\n",
    "try:\n",
    "    auth = tweepy.OAuthHandler(CONSUMER_KEY,CONSUMER_SECRET)\n",
    "    auth.set_access_token(OAUTH_TOKEN,OAUTH_TOKEN_SECRET)\n",
    "    api = tweepy.API(auth,wait_on_rate_limit=True)\n",
    "    print(\"connected \",api)\n",
    "except:\n",
    "    print(\"Error: Authentication Failed\") \n"
   ]
  },
  {
   "cell_type": "markdown",
   "metadata": {},
   "source": [
    "#### Function for tweets crawling\n",
    "- Using tweepy.Cursor to get data according to the parameters including hashtag,language,number of tweets etc."
   ]
  },
  {
   "cell_type": "code",
   "execution_count": 68,
   "metadata": {},
   "outputs": [],
   "source": [
    "# function for tweets crawling\n",
    "def tweets_crawling(hashtag,tweet_mode,lang,result_type,pagecount,items):\n",
    "    df = pd.DataFrame()\n",
    "    msgs = []\n",
    "    msg =[]\n",
    "    for tweet in tweepy.Cursor(api.search,q=hashtag,tweet_mode=tweet_mode,lang=lang,result_type=result_type,count=pagecount).items(items):\n",
    "        if 'retweeted_status' in dir(tweet):\n",
    "            text=tweet.retweeted_status.full_text\n",
    "        else:\n",
    "            text=tweet.full_text\n",
    "        msg=[tweet.user.id,tweet.user.name,tweet.user.location,tweet.user.friends_count,tweet.created_at,tweet.retweet_count,tweet.favorite_count,text]\n",
    "        msgs.append(msg)\n",
    "    df=pd.DataFrame(msgs)\n",
    "    df.columns=['user_id','user_name','user_location','user_friends_count','created_time','retweet_count','favourite_count','original_text']\n",
    "    return df"
   ]
  },
  {
   "cell_type": "markdown",
   "metadata": {},
   "source": [
    "## 2 Data Cleaning of the tweet.\n",
    "- Hashtag extraction from tweets.\n",
    "- Extracing content of tweets."
   ]
  },
  {
   "cell_type": "code",
   "execution_count": 69,
   "metadata": {},
   "outputs": [],
   "source": [
    "\n",
    "\n",
    "\n",
    "#function for extract hashtag from the tweets\n",
    "def extract_hashtag(text):\n",
    "    hashtag=[]\n",
    "    for i in text:\n",
    "        a=re.findall(r\"#(\\w+)\", i)\n",
    "        hashtag.append([i.capitalize() for i in a])\n",
    "    return hashtag\n",
    "\n",
    "#function for tweets cleaning by re\n",
    "def data_clean(text):\n",
    "    p=re.compile(r'[-,$()#+&*]')\n",
    "    urlclean=re.compile(r'https://[a-zA-Z0-9.?/&=:]*',re.S)\n",
    "    tagclean=re.compile(r'#[a-zA-Z0-9.?/&=:_]*',re.S)\n",
    "    userclean=re.compile(r'@[a-zA-Z0-9.?/&=:_]*',re.S)\n",
    "    cleaned_text=[]\n",
    "\n",
    "    for i in text:\n",
    "        nourl=re.sub(urlclean,\"\",i)\n",
    "        nouser=re.sub(userclean,\"\",nourl)\n",
    "        notag=re.sub(tagclean,\"\",nouser)\n",
    "        clean =notag.replace('\\n',\"\")\n",
    "        cleaned_text.append(clean)\n",
    "    return cleaned_text\n",
    "    "
   ]
  },
  {
   "cell_type": "markdown",
   "metadata": {},
   "source": [
    "#### Do the data crawling, data cleaning and save it to as a csv file"
   ]
  },
  {
   "cell_type": "code",
   "execution_count": 70,
   "metadata": {},
   "outputs": [],
   "source": [
    "# call the functions for crawling tweets, save to the local, extracting hashtag and do data cleaning from the crwaled tweets.\n",
    "df = tweets_crawling(hashtag='#vegan',tweet_mode='extended',lang='en',result_type='mixed',pagecount=100,items=100)\n",
    "df.to_csv('vegancrawl.csv',header=True,index=False,encoding='utf_8_sig')\n",
    "df['hashtag'] = extract_hashtag(df['original_text'])\n",
    "df['cleaned_text'] = data_clean(df['original_text'])\n"
   ]
  },
  {
   "cell_type": "code",
   "execution_count": 71,
   "metadata": {
    "scrolled": false
   },
   "outputs": [
    {
     "data": {
      "text/html": [
       "<div>\n",
       "<style scoped>\n",
       "    .dataframe tbody tr th:only-of-type {\n",
       "        vertical-align: middle;\n",
       "    }\n",
       "\n",
       "    .dataframe tbody tr th {\n",
       "        vertical-align: top;\n",
       "    }\n",
       "\n",
       "    .dataframe thead th {\n",
       "        text-align: right;\n",
       "    }\n",
       "</style>\n",
       "<table border=\"1\" class=\"dataframe\">\n",
       "  <thead>\n",
       "    <tr style=\"text-align: right;\">\n",
       "      <th></th>\n",
       "      <th>user_id</th>\n",
       "      <th>user_name</th>\n",
       "      <th>user_location</th>\n",
       "      <th>user_friends_count</th>\n",
       "      <th>created_time</th>\n",
       "      <th>retweet_count</th>\n",
       "      <th>favourite_count</th>\n",
       "      <th>original_text</th>\n",
       "      <th>hashtag</th>\n",
       "      <th>cleaned_text</th>\n",
       "    </tr>\n",
       "  </thead>\n",
       "  <tbody>\n",
       "    <tr>\n",
       "      <th>0</th>\n",
       "      <td>34568634</td>\n",
       "      <td>League Against Cruel Sports</td>\n",
       "      <td>Surrey, UK</td>\n",
       "      <td>12574</td>\n",
       "      <td>2020-03-08 18:45:09</td>\n",
       "      <td>17</td>\n",
       "      <td>16</td>\n",
       "      <td>Will you be at Edinburgh Vegan Festival on Sun...</td>\n",
       "      <td>[Edinburgh, Vegan, Festival]</td>\n",
       "      <td>Will you be at Edinburgh Vegan Festival on Sun...</td>\n",
       "    </tr>\n",
       "    <tr>\n",
       "      <th>1</th>\n",
       "      <td>75137937</td>\n",
       "      <td>Ari Solomon</td>\n",
       "      <td>Los Angeles, CA</td>\n",
       "      <td>120</td>\n",
       "      <td>2020-03-08 21:59:19</td>\n",
       "      <td>10</td>\n",
       "      <td>16</td>\n",
       "      <td>New #VeganAriShow! Talking the coronavirus, Su...</td>\n",
       "      <td>[Veganarishow, Vegan, Podcast]</td>\n",
       "      <td>New ! Talking the coronavirus, Super Tuesday, ...</td>\n",
       "    </tr>\n",
       "    <tr>\n",
       "      <th>2</th>\n",
       "      <td>9890492</td>\n",
       "      <td>PETA</td>\n",
       "      <td>Los Angeles, CA / Norfolk, VA</td>\n",
       "      <td>5021</td>\n",
       "      <td>2020-03-09 14:47:01</td>\n",
       "      <td>6</td>\n",
       "      <td>36</td>\n",
       "      <td>Feather-free? Yes, please!\\n\\nThese sleek, coz...</td>\n",
       "      <td>[Vegan]</td>\n",
       "      <td>Feather-free? Yes, please!These sleek, cozy, a...</td>\n",
       "    </tr>\n",
       "    <tr>\n",
       "      <th>3</th>\n",
       "      <td>3394604583</td>\n",
       "      <td>Sean Patrick</td>\n",
       "      <td>New Jersey, USA</td>\n",
       "      <td>4999</td>\n",
       "      <td>2020-03-09 16:54:55</td>\n",
       "      <td>15</td>\n",
       "      <td>0</td>\n",
       "      <td>Peacocks and bats are sold in bizarre meat mar...</td>\n",
       "      <td>[Vegan]</td>\n",
       "      <td>Peacocks and bats are sold in bizarre meat mar...</td>\n",
       "    </tr>\n",
       "    <tr>\n",
       "      <th>4</th>\n",
       "      <td>1185213363195961349</td>\n",
       "      <td>resinate 💐💓 GIVEAWAY</td>\n",
       "      <td>next update tbd</td>\n",
       "      <td>1099</td>\n",
       "      <td>2020-03-09 16:54:34</td>\n",
       "      <td>75</td>\n",
       "      <td>0</td>\n",
       "      <td>Who’s tried my #vegan lip balms? 🖤 \\nIf you’ve...</td>\n",
       "      <td>[Vegan]</td>\n",
       "      <td>Who’s tried my  lip balms? 🖤 If you’ve tried m...</td>\n",
       "    </tr>\n",
       "  </tbody>\n",
       "</table>\n",
       "</div>"
      ],
      "text/plain": [
       "               user_id                    user_name  \\\n",
       "0             34568634  League Against Cruel Sports   \n",
       "1             75137937                  Ari Solomon   \n",
       "2              9890492                         PETA   \n",
       "3           3394604583                 Sean Patrick   \n",
       "4  1185213363195961349         resinate 💐💓 GIVEAWAY   \n",
       "\n",
       "                   user_location  user_friends_count         created_time  \\\n",
       "0                     Surrey, UK               12574  2020-03-08 18:45:09   \n",
       "1                Los Angeles, CA                 120  2020-03-08 21:59:19   \n",
       "2  Los Angeles, CA / Norfolk, VA                5021  2020-03-09 14:47:01   \n",
       "3                New Jersey, USA                4999  2020-03-09 16:54:55   \n",
       "4               next update tbd                 1099  2020-03-09 16:54:34   \n",
       "\n",
       "   retweet_count  favourite_count  \\\n",
       "0             17               16   \n",
       "1             10               16   \n",
       "2              6               36   \n",
       "3             15                0   \n",
       "4             75                0   \n",
       "\n",
       "                                       original_text  \\\n",
       "0  Will you be at Edinburgh Vegan Festival on Sun...   \n",
       "1  New #VeganAriShow! Talking the coronavirus, Su...   \n",
       "2  Feather-free? Yes, please!\\n\\nThese sleek, coz...   \n",
       "3  Peacocks and bats are sold in bizarre meat mar...   \n",
       "4  Who’s tried my #vegan lip balms? 🖤 \\nIf you’ve...   \n",
       "\n",
       "                          hashtag  \\\n",
       "0    [Edinburgh, Vegan, Festival]   \n",
       "1  [Veganarishow, Vegan, Podcast]   \n",
       "2                         [Vegan]   \n",
       "3                         [Vegan]   \n",
       "4                         [Vegan]   \n",
       "\n",
       "                                        cleaned_text  \n",
       "0  Will you be at Edinburgh Vegan Festival on Sun...  \n",
       "1  New ! Talking the coronavirus, Super Tuesday, ...  \n",
       "2  Feather-free? Yes, please!These sleek, cozy, a...  \n",
       "3  Peacocks and bats are sold in bizarre meat mar...  \n",
       "4  Who’s tried my  lip balms? 🖤 If you’ve tried m...  "
      ]
     },
     "execution_count": 71,
     "metadata": {},
     "output_type": "execute_result"
    }
   ],
   "source": [
    "df=pd.read_csv('vegancrawl.csv',index_col=False)\n",
    "df['hashtag'] = extract_hashtag(df['original_text'])\n",
    "df['cleaned_text'] = data_clean(df['original_text'])\n",
    "df.head(5)"
   ]
  },
  {
   "cell_type": "markdown",
   "metadata": {},
   "source": [
    "## 3 Vader_based Sentiment Anlaysis use both textblob and NLTK.\n",
    "- Textblob: More information:https://textblob.readthedocs.io/en/dev/\n",
    "- NLTK: More information:https://www.nltk.org/"
   ]
  },
  {
   "cell_type": "code",
   "execution_count": 72,
   "metadata": {},
   "outputs": [
    {
     "data": {
      "text/html": [
       "<div>\n",
       "<style scoped>\n",
       "    .dataframe tbody tr th:only-of-type {\n",
       "        vertical-align: middle;\n",
       "    }\n",
       "\n",
       "    .dataframe tbody tr th {\n",
       "        vertical-align: top;\n",
       "    }\n",
       "\n",
       "    .dataframe thead th {\n",
       "        text-align: right;\n",
       "    }\n",
       "</style>\n",
       "<table border=\"1\" class=\"dataframe\">\n",
       "  <thead>\n",
       "    <tr style=\"text-align: right;\">\n",
       "      <th></th>\n",
       "      <th>user_id</th>\n",
       "      <th>user_name</th>\n",
       "      <th>user_location</th>\n",
       "      <th>user_friends_count</th>\n",
       "      <th>created_time</th>\n",
       "      <th>retweet_count</th>\n",
       "      <th>favourite_count</th>\n",
       "      <th>original_text</th>\n",
       "      <th>hashtag</th>\n",
       "      <th>cleaned_text</th>\n",
       "      <th>textblob_SA</th>\n",
       "      <th>textblob_poly</th>\n",
       "      <th>nltk_vsa</th>\n",
       "      <th>nltk_poly</th>\n",
       "    </tr>\n",
       "  </thead>\n",
       "  <tbody>\n",
       "    <tr>\n",
       "      <th>0</th>\n",
       "      <td>34568634</td>\n",
       "      <td>League Against Cruel Sports</td>\n",
       "      <td>Surrey, UK</td>\n",
       "      <td>12574</td>\n",
       "      <td>2020-03-08 18:45:09</td>\n",
       "      <td>17</td>\n",
       "      <td>16</td>\n",
       "      <td>Will you be at Edinburgh Vegan Festival on Sun...</td>\n",
       "      <td>[Edinburgh, Vegan, Festival]</td>\n",
       "      <td>Will you be at Edinburgh Vegan Festival on Sun...</td>\n",
       "      <td>0.625000</td>\n",
       "      <td>Positive</td>\n",
       "      <td>0.6800</td>\n",
       "      <td>Positive</td>\n",
       "    </tr>\n",
       "    <tr>\n",
       "      <th>1</th>\n",
       "      <td>75137937</td>\n",
       "      <td>Ari Solomon</td>\n",
       "      <td>Los Angeles, CA</td>\n",
       "      <td>120</td>\n",
       "      <td>2020-03-08 21:59:19</td>\n",
       "      <td>10</td>\n",
       "      <td>16</td>\n",
       "      <td>New #VeganAriShow! Talking the coronavirus, Su...</td>\n",
       "      <td>[Veganarishow, Vegan, Podcast]</td>\n",
       "      <td>New ! Talking the coronavirus, Super Tuesday, ...</td>\n",
       "      <td>0.296757</td>\n",
       "      <td>Positive</td>\n",
       "      <td>0.8306</td>\n",
       "      <td>Positive</td>\n",
       "    </tr>\n",
       "    <tr>\n",
       "      <th>2</th>\n",
       "      <td>9890492</td>\n",
       "      <td>PETA</td>\n",
       "      <td>Los Angeles, CA / Norfolk, VA</td>\n",
       "      <td>5021</td>\n",
       "      <td>2020-03-09 14:47:01</td>\n",
       "      <td>6</td>\n",
       "      <td>36</td>\n",
       "      <td>Feather-free? Yes, please!\\n\\nThese sleek, coz...</td>\n",
       "      <td>[Vegan]</td>\n",
       "      <td>Feather-free? Yes, please!These sleek, cozy, a...</td>\n",
       "      <td>0.112500</td>\n",
       "      <td>Positive</td>\n",
       "      <td>0.8118</td>\n",
       "      <td>Positive</td>\n",
       "    </tr>\n",
       "    <tr>\n",
       "      <th>3</th>\n",
       "      <td>3394604583</td>\n",
       "      <td>Sean Patrick</td>\n",
       "      <td>New Jersey, USA</td>\n",
       "      <td>4999</td>\n",
       "      <td>2020-03-09 16:54:55</td>\n",
       "      <td>15</td>\n",
       "      <td>0</td>\n",
       "      <td>Peacocks and bats are sold in bizarre meat mar...</td>\n",
       "      <td>[Vegan]</td>\n",
       "      <td>Peacocks and bats are sold in bizarre meat mar...</td>\n",
       "      <td>0.200000</td>\n",
       "      <td>Positive</td>\n",
       "      <td>-0.0772</td>\n",
       "      <td>Neutral</td>\n",
       "    </tr>\n",
       "    <tr>\n",
       "      <th>4</th>\n",
       "      <td>1185213363195961349</td>\n",
       "      <td>resinate 💐💓 GIVEAWAY</td>\n",
       "      <td>next update tbd</td>\n",
       "      <td>1099</td>\n",
       "      <td>2020-03-09 16:54:34</td>\n",
       "      <td>75</td>\n",
       "      <td>0</td>\n",
       "      <td>Who’s tried my #vegan lip balms? 🖤 \\nIf you’ve...</td>\n",
       "      <td>[Vegan]</td>\n",
       "      <td>Who’s tried my  lip balms? 🖤 If you’ve tried m...</td>\n",
       "      <td>0.312500</td>\n",
       "      <td>Positive</td>\n",
       "      <td>0.8016</td>\n",
       "      <td>Positive</td>\n",
       "    </tr>\n",
       "  </tbody>\n",
       "</table>\n",
       "</div>"
      ],
      "text/plain": [
       "               user_id                    user_name  \\\n",
       "0             34568634  League Against Cruel Sports   \n",
       "1             75137937                  Ari Solomon   \n",
       "2              9890492                         PETA   \n",
       "3           3394604583                 Sean Patrick   \n",
       "4  1185213363195961349         resinate 💐💓 GIVEAWAY   \n",
       "\n",
       "                   user_location  user_friends_count         created_time  \\\n",
       "0                     Surrey, UK               12574  2020-03-08 18:45:09   \n",
       "1                Los Angeles, CA                 120  2020-03-08 21:59:19   \n",
       "2  Los Angeles, CA / Norfolk, VA                5021  2020-03-09 14:47:01   \n",
       "3                New Jersey, USA                4999  2020-03-09 16:54:55   \n",
       "4               next update tbd                 1099  2020-03-09 16:54:34   \n",
       "\n",
       "   retweet_count  favourite_count  \\\n",
       "0             17               16   \n",
       "1             10               16   \n",
       "2              6               36   \n",
       "3             15                0   \n",
       "4             75                0   \n",
       "\n",
       "                                       original_text  \\\n",
       "0  Will you be at Edinburgh Vegan Festival on Sun...   \n",
       "1  New #VeganAriShow! Talking the coronavirus, Su...   \n",
       "2  Feather-free? Yes, please!\\n\\nThese sleek, coz...   \n",
       "3  Peacocks and bats are sold in bizarre meat mar...   \n",
       "4  Who’s tried my #vegan lip balms? 🖤 \\nIf you’ve...   \n",
       "\n",
       "                          hashtag  \\\n",
       "0    [Edinburgh, Vegan, Festival]   \n",
       "1  [Veganarishow, Vegan, Podcast]   \n",
       "2                         [Vegan]   \n",
       "3                         [Vegan]   \n",
       "4                         [Vegan]   \n",
       "\n",
       "                                        cleaned_text  textblob_SA  \\\n",
       "0  Will you be at Edinburgh Vegan Festival on Sun...     0.625000   \n",
       "1  New ! Talking the coronavirus, Super Tuesday, ...     0.296757   \n",
       "2  Feather-free? Yes, please!These sleek, cozy, a...     0.112500   \n",
       "3  Peacocks and bats are sold in bizarre meat mar...     0.200000   \n",
       "4  Who’s tried my  lip balms? 🖤 If you’ve tried m...     0.312500   \n",
       "\n",
       "  textblob_poly  nltk_vsa nltk_poly  \n",
       "0      Positive    0.6800  Positive  \n",
       "1      Positive    0.8306  Positive  \n",
       "2      Positive    0.8118  Positive  \n",
       "3      Positive   -0.0772   Neutral  \n",
       "4      Positive    0.8016  Positive  "
      ]
     },
     "execution_count": 72,
     "metadata": {},
     "output_type": "execute_result"
    }
   ],
   "source": [
    "textblob_SA=[]\n",
    "textblob_poly=[]\n",
    "for i in df[\"cleaned_text\"]:\n",
    "    analsysis=TextBlob(i)\n",
    "    textblob_SA.append(analsysis.sentiment.polarity)\n",
    "    if analsysis.sentiment.polarity>=0.1:\n",
    "        textblob_poly.append(\"Positive\")\n",
    "    elif analsysis.sentiment.polarity<=-0.1:\n",
    "        textblob_poly.append(\"Negative\")\n",
    "    else:\n",
    "        textblob_poly.append(\"Neutral\")\n",
    "df[\"textblob_SA\"]=textblob_SA\n",
    "df[\"textblob_poly\"]=textblob_poly\n",
    "nltk_vsa=[]\n",
    "nltk_poly=[]\n",
    "sid=SentimentIntensityAnalyzer()\n",
    "for i in df[\"cleaned_text\"]:\n",
    "    nltk_vsa.append(sid.polarity_scores(i)['compound'])\n",
    "    if sid.polarity_scores(i)['compound']>=0.1:\n",
    "        nltk_poly.append(\"Positive\")\n",
    "    elif sid.polarity_scores(i)['compound']<=-0.1:\n",
    "        nltk_poly.append(\"Negative\")\n",
    "    else:\n",
    "        nltk_poly.append(\"Neutral\")\n",
    "        \n",
    "df[\"nltk_vsa\"]=nltk_vsa\n",
    "df[\"nltk_poly\"]=nltk_poly\n",
    "df.head(5)"
   ]
  },
  {
   "cell_type": "markdown",
   "metadata": {},
   "source": [
    "## Data Analysis and visualization reporting"
   ]
  },
  {
   "cell_type": "code",
   "execution_count": 63,
   "metadata": {},
   "outputs": [
    {
     "data": {
      "image/png": "[encoded data removed]",
      "text/plain": [
       "<Figure size 432x288 with 1 Axes>"
      ]
     },
     "metadata": {
      "needs_background": "light"
     },
     "output_type": "display_data"
    },
    {
     "data": {
      "image/png": "[encoded data removed]",
      "text/plain": [
       "<Figure size 432x288 with 1 Axes>"
      ]
     },
     "metadata": {
      "needs_background": "light"
     },
     "output_type": "display_data"
    }
   ],
   "source": [
    "sns.distplot(df.textblob_SA,bins=20)\n",
    "plt.title(\"Distribution of sentiment calculated by textblob\")\n",
    "plt.show()\n",
    "\n",
    "tb=df.textblob_poly.value_counts()\n",
    "sbn.barplot(x=tb.index,y=tb)\n",
    "plt.title(\"Barplot of sentiment polarity calculated by textblob\")\n",
    "plt.show()\n"
   ]
  },
  {
   "cell_type": "code",
   "execution_count": 64,
   "metadata": {},
   "outputs": [
    {
     "data": {
      "image/png": "[encoded data removed]",
      "text/plain": [
       "<Figure size 432x288 with 1 Axes>"
      ]
     },
     "metadata": {
      "needs_background": "light"
     },
     "output_type": "display_data"
    },
    {
     "data": {
      "image/png": "[encoded data removed]",
      "text/plain": [
       "<Figure size 432x288 with 1 Axes>"
      ]
     },
     "metadata": {
      "needs_background": "light"
     },
     "output_type": "display_data"
    }
   ],
   "source": [
    "sns.distplot(df.nltk_vsa, bins=20,hist=True)\n",
    "plt.title(\"Distribution of sentiment calculated by NLTK\")\n",
    "plt.show()\n",
    "nl=df.nltk_poly.value_counts()\n",
    "sbn.barplot(x=nl.index,y=nl)\n",
    "plt.title(\"Barplot of sentiment polarity calculated by NLTK\")\n",
    "plt.show()"
   ]
  },
  {
   "cell_type": "code",
   "execution_count": 65,
   "metadata": {
    "scrolled": true
   },
   "outputs": [
    {
     "data": {
      "image/png": "[encoded data removed]",
      "text/plain": [
       "<Figure size 432x288 with 1 Axes>"
      ]
     },
     "metadata": {
      "needs_background": "light"
     },
     "output_type": "display_data"
    }
   ],
   "source": [
    "sns.distplot(df.textblob_SA,bins=20,label=\"TextBlob\")\n",
    "sns.distplot(df.nltk_vsa, bins=20,hist=True,label=\"NLTK\")\n",
    "plt.title(\"Comparision of sentiment analysis results by Textblob and NLTK\")\n",
    "plt.legend()\n",
    "plt.show()"
   ]
  },
  {
   "cell_type": "code",
   "execution_count": 18,
   "metadata": {},
   "outputs": [
    {
     "data": {
      "text/plain": [
       "<matplotlib.axes._subplots.AxesSubplot at 0x276e4b99a88>"
      ]
     },
     "execution_count": 18,
     "metadata": {},
     "output_type": "execute_result"
    },
    {
     "data": {
      "image/png": "[encoded data removed]",
      "text/plain": [
       "<Figure size 1080x360 with 1 Axes>"
      ]
     },
     "metadata": {
      "needs_background": "light"
     },
     "output_type": "display_data"
    }
   ],
   "source": [
    "hashtag=[]\n",
    "count=0\n",
    "for i in df.hashtag:\n",
    "    for j in i:\n",
    "        count+=1\n",
    "        hashtag.append(j)\n",
    "        \n",
    "\n",
    "ht_df=pd.DataFrame()       \n",
    "ht_df['hashtag']=hashtag\n",
    "item=ht_df['hashtag'].value_counts()\n",
    "ht_df\n",
    "\n",
    "plt.figure(figsize=(15,5))\n",
    "sns.countplot(ht_df['hashtag'],order=item.nlargest(10).index)\n"
   ]
  }
 ],
 "metadata": {
  "kernelspec": {
   "display_name": "Python 3",
   "language": "python",
   "name": "python3"
  },
  "language_info": {
   "codemirror_mode": {
    "name": "ipython",
    "version": 3
   },
   "file_extension": ".py",
   "mimetype": "text/x-python",
   "name": "python",
   "nbconvert_exporter": "python",
   "pygments_lexer": "ipython3",
   "version": "3.7.6"
  }
 },
 "nbformat": 4,
 "nbformat_minor": 2
}
